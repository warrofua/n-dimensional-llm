{
  "cells": [
    {
      "cell_type": "markdown",
      "metadata": {},
      "source": [
        "# Document-understanding benchmark sweeps\n",
        "This notebook compares synthetic invoice benchmarks against the bundled FUNSD sample.\n",
        "It tracks accuracy, average tokens kept, and the information bottleneck proxies emitted per budget.\n"
      ]
    },
    {
      "cell_type": "code",
      "metadata": {},
      "execution_count": null,
      "outputs": [],
      "source": [
        "from pprint import pprint\n",
        "\n",
        "from benchmarks.doc_understanding import run_benchmark, run_funsd_benchmark\n"
      ]
    },
    {
      "cell_type": "code",
      "metadata": {},
      "execution_count": null,
      "outputs": [],
      "source": [
        "synthetic_report = run_benchmark(budget_values=(2, 4, 6), dataset_size=8, threshold=400.0, seed=1)\n",
        "funsd_report = run_funsd_benchmark(budget_values=(6, 8, 10), dataset_size=2, use_sample=True)\n",
        "\n",
        "print('Synthetic budgets:')\n",
        "pprint(synthetic_report['budgets'])\n",
        "print('\nFUNSD budgets:')\n",
        "pprint(funsd_report['budgets'])\n"
      ]
    },
    {
      "cell_type": "code",
      "metadata": {},
      "execution_count": null,
      "outputs": [],
      "source": [
        "def summarise(report, label):\n",
        "    rows = []\n",
        "    for entry in report['budgets']:\n",
        "        metrics = entry.get('metrics', {})\n",
        "        rows.append({\n",
        "            'benchmark': label,\n",
        "            'budget': entry['budget'],\n",
        "            'accuracy': entry['accuracy'],\n",
        "            'average_kept_tokens': entry['average_kept_tokens'],\n",
        "            'information_bound': metrics.get('information_bound'),\n",
        "            'rate_distortion': metrics.get('rate_distortion'),\n",
        "        })\n",
        "    return rows\n",
        "\n",
        "comparison = summarise(synthetic_report, 'synthetic') + summarise(funsd_report, 'funsd-sample')\n",
        "for row in comparison:\n",
        "    pprint(row)\n"
      ]
    }
  ],
  "metadata": {
    "kernelspec": {
      "display_name": "Python 3",
      "language": "python",
      "name": "python3"
    },
    "language_info": {
      "name": "python",
      "version": "3.10"
    }
  },
  "nbformat": 4,
  "nbformat_minor": 5
}